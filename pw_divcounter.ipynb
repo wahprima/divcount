{
  "nbformat": 4,
  "nbformat_minor": 0,
  "metadata": {
    "colab": {
      "name": "pw_divcounter.ipynb",
      "version": "0.3.2",
      "provenance": [],
      "collapsed_sections": []
    },
    "kernelspec": {
      "name": "python3",
      "display_name": "Python 3"
    }
  },
  "cells": [
    {
      "cell_type": "code",
      "metadata": {
        "id": "V1jyTRQvWoiV",
        "colab_type": "code",
        "colab": {}
      },
      "source": [
        "def divCounter(inputpath):\n",
        "    \n",
        "  with open(inputpath) as f:\n",
        "    lst = [int(x) for x in f.read().split()]\n",
        "  \n",
        "      \n",
        "  def countDiv(A,B,K):\n",
        "    if K > B:\n",
        "      return 0\n",
        "    else:\n",
        "      if A < K:\n",
        "        A = K\n",
        "      elif A >= K and A%K == 0:\n",
        "        A = A\n",
        "      else:\n",
        "        while A%K != 0:\n",
        "          A += 1\n",
        "    \n",
        "      if B%K != 0:\n",
        "        B -= 1\n",
        "      else:\n",
        "        B\n",
        "      \n",
        "      return int(((B/K)-(A/K))+1)\n",
        "    \n",
        "    \n",
        "  u=1\n",
        "  v=2\n",
        "  w=3\n",
        "  \n",
        "  \n",
        "  for i in range(1,lst[0]+1):\n",
        "    A=lst[u]\n",
        "    B=lst[v]\n",
        "    K=lst[w]\n",
        "    print(\"Case \",i,\": \",countDiv(A,B,K),sep=\"\")\n",
        "    u += 3\n",
        "    v += 3\n",
        "    w += 3"
      ],
      "execution_count": 0,
      "outputs": []
    },
    {
      "cell_type": "code",
      "metadata": {
        "id": "ZP1onuIxXCXX",
        "colab_type": "code",
        "colab": {
          "base_uri": "https://localhost:8080/",
          "height": 52
        },
        "outputId": "32a97735-3810-431b-ad6e-e1396bab3e42"
      },
      "source": [
        "divCounter(\"sample_data/input_sample.txt\")"
      ],
      "execution_count": 4,
      "outputs": [
        {
          "output_type": "stream",
          "text": [
            "Case 1: 3\n",
            "Case 2: 4\n"
          ],
          "name": "stdout"
        }
      ]
    },
    {
      "cell_type": "code",
      "metadata": {
        "id": "GFMEZUQXXbjj",
        "colab_type": "code",
        "colab": {
          "base_uri": "https://localhost:8080/",
          "height": 1795
        },
        "outputId": "a54778de-2ad6-483d-b379-8cd5541cefbc"
      },
      "source": [
        "divCounter(\"sample_data/input_real.txt\")"
      ],
      "execution_count": 5,
      "outputs": [
        {
          "output_type": "stream",
          "text": [
            "Case 1: 9872\n",
            "Case 2: 10\n",
            "Case 3: 1104\n",
            "Case 4: 775\n",
            "Case 5: 20\n",
            "Case 6: 128\n",
            "Case 7: 0\n",
            "Case 8: 7\n",
            "Case 9: 605\n",
            "Case 10: 2\n",
            "Case 11: 5\n",
            "Case 12: 0\n",
            "Case 13: 0\n",
            "Case 14: 101\n",
            "Case 15: 7\n",
            "Case 16: 141\n",
            "Case 17: 0\n",
            "Case 18: 98\n",
            "Case 19: 2159\n",
            "Case 20: 253\n",
            "Case 21: 114\n",
            "Case 22: 1\n",
            "Case 23: 0\n",
            "Case 24: 85\n",
            "Case 25: 461\n",
            "Case 26: 122\n",
            "Case 27: 0\n",
            "Case 28: 0\n",
            "Case 29: 1423\n",
            "Case 30: 372\n",
            "Case 31: 2\n",
            "Case 32: 2\n",
            "Case 33: 182\n",
            "Case 34: 5\n",
            "Case 35: 11\n",
            "Case 36: 2\n",
            "Case 37: 0\n",
            "Case 38: 1249\n",
            "Case 39: 238\n",
            "Case 40: 642\n",
            "Case 41: 436\n",
            "Case 42: 1\n",
            "Case 43: 1\n",
            "Case 44: 144\n",
            "Case 45: 0\n",
            "Case 46: 387\n",
            "Case 47: 0\n",
            "Case 48: 165\n",
            "Case 49: 83\n",
            "Case 50: 6\n",
            "Case 51: 1332\n",
            "Case 52: 9662\n",
            "Case 53: 998\n",
            "Case 54: 16\n",
            "Case 55: 1\n",
            "Case 56: 0\n",
            "Case 57: 1\n",
            "Case 58: 155\n",
            "Case 59: 1\n",
            "Case 60: 46\n",
            "Case 61: 0\n",
            "Case 62: 1\n",
            "Case 63: 98\n",
            "Case 64: 0\n",
            "Case 65: 1969\n",
            "Case 66: 129\n",
            "Case 67: 63\n",
            "Case 68: 385\n",
            "Case 69: 0\n",
            "Case 70: 1\n",
            "Case 71: 686\n",
            "Case 72: 1\n",
            "Case 73: 0\n",
            "Case 74: 4981\n",
            "Case 75: 103\n",
            "Case 76: 0\n",
            "Case 77: 68\n",
            "Case 78: 42\n",
            "Case 79: 1359\n",
            "Case 80: 98\n",
            "Case 81: 208\n",
            "Case 82: 323\n",
            "Case 83: 101\n",
            "Case 84: 207\n",
            "Case 85: 3323\n",
            "Case 86: 1\n",
            "Case 87: 757\n",
            "Case 88: 6\n",
            "Case 89: 0\n",
            "Case 90: 110\n",
            "Case 91: 2486\n",
            "Case 92: 0\n",
            "Case 93: 267\n",
            "Case 94: 432\n",
            "Case 95: 1662\n",
            "Case 96: 0\n",
            "Case 97: 180\n",
            "Case 98: 344\n",
            "Case 99: 94\n",
            "Case 100: 6\n"
          ],
          "name": "stdout"
        }
      ]
    }
  ]
}